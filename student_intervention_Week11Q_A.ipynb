{
  "nbformat": 4,
  "nbformat_minor": 0,
  "metadata": {
    "colab": {
      "name": "student intervention-Week11Q/A.ipynb",
      "provenance": []
    },
    "kernelspec": {
      "name": "python3",
      "display_name": "Python 3"
    },
    "language_info": {
      "name": "python"
    }
  },
  "cells": [
    {
      "cell_type": "code",
      "execution_count": 2,
      "metadata": {
        "id": "qGlgczJTllnM"
      },
      "outputs": [],
      "source": [
        "import numpy as np\n",
        "import pandas as pd\n",
        "import matplotlib.pyplot as plt\n",
        "import seaborn as sns"
      ]
    },
    {
      "cell_type": "markdown",
      "source": [
        "Importing dataset"
      ],
      "metadata": {
        "id": "FyM9A2RomAmg"
      }
    },
    {
      "cell_type": "code",
      "source": [
        "data=pd.read_csv('/content/student-data.csv')\n",
        "print(data)"
      ],
      "metadata": {
        "colab": {
          "base_uri": "https://localhost:8080/"
        },
        "id": "fcY8uQ5JmC0V",
        "outputId": "a7119d31-cdf8-47d6-8d5f-4fc58c1448d2"
      },
      "execution_count": 3,
      "outputs": [
        {
          "output_type": "stream",
          "name": "stdout",
          "text": [
            "    school sex  age address famsize Pstatus  Medu  Fedu      Mjob      Fjob  \\\n",
            "0       GP   F   18       U     GT3       A     4     4   at_home   teacher   \n",
            "1       GP   F   17       U     GT3       T     1     1   at_home     other   \n",
            "2       GP   F   15       U     LE3       T     1     1   at_home     other   \n",
            "3       GP   F   15       U     GT3       T     4     2    health  services   \n",
            "4       GP   F   16       U     GT3       T     3     3     other     other   \n",
            "..     ...  ..  ...     ...     ...     ...   ...   ...       ...       ...   \n",
            "390     MS   M   20       U     LE3       A     2     2  services  services   \n",
            "391     MS   M   17       U     LE3       T     3     1  services  services   \n",
            "392     MS   M   21       R     GT3       T     1     1     other     other   \n",
            "393     MS   M   18       R     LE3       T     3     2  services     other   \n",
            "394     MS   M   19       U     LE3       T     1     1     other   at_home   \n",
            "\n",
            "     ... internet romantic  famrel  freetime  goout Dalc Walc health absences  \\\n",
            "0    ...       no       no       4         3      4    1    1      3        6   \n",
            "1    ...      yes       no       5         3      3    1    1      3        4   \n",
            "2    ...      yes       no       4         3      2    2    3      3       10   \n",
            "3    ...      yes      yes       3         2      2    1    1      5        2   \n",
            "4    ...       no       no       4         3      2    1    2      5        4   \n",
            "..   ...      ...      ...     ...       ...    ...  ...  ...    ...      ...   \n",
            "390  ...       no       no       5         5      4    4    5      4       11   \n",
            "391  ...      yes       no       2         4      5    3    4      2        3   \n",
            "392  ...       no       no       5         5      3    3    3      3        3   \n",
            "393  ...      yes       no       4         4      1    3    4      5        0   \n",
            "394  ...      yes       no       3         2      3    3    3      5        5   \n",
            "\n",
            "    passed  \n",
            "0       no  \n",
            "1       no  \n",
            "2      yes  \n",
            "3      yes  \n",
            "4      yes  \n",
            "..     ...  \n",
            "390     no  \n",
            "391    yes  \n",
            "392     no  \n",
            "393    yes  \n",
            "394     no  \n",
            "\n",
            "[395 rows x 31 columns]\n"
          ]
        }
      ]
    },
    {
      "cell_type": "markdown",
      "source": [
        "**This is a clear case of classification problem as the result is y/n ie.whether the student passes or not**"
      ],
      "metadata": {
        "id": "u--Zav34mZoH"
      }
    },
    {
      "cell_type": "markdown",
      "source": [
        "# **step 1:Exploring data**"
      ],
      "metadata": {
        "id": "DK0WZHgDmn2l"
      }
    },
    {
      "cell_type": "code",
      "source": [
        "data.shape"
      ],
      "metadata": {
        "colab": {
          "base_uri": "https://localhost:8080/"
        },
        "id": "Dfb7u0szmsMn",
        "outputId": "bc82d51a-9dc1-4fa3-86bc-95769409beb2"
      },
      "execution_count": 4,
      "outputs": [
        {
          "output_type": "execute_result",
          "data": {
            "text/plain": [
              "(395, 31)"
            ]
          },
          "metadata": {},
          "execution_count": 4
        }
      ]
    },
    {
      "cell_type": "code",
      "source": [
        "data.info()"
      ],
      "metadata": {
        "colab": {
          "base_uri": "https://localhost:8080/"
        },
        "id": "8egmwN8nm0AV",
        "outputId": "09772346-d5f7-4412-c70e-0ea90c8f349a"
      },
      "execution_count": 5,
      "outputs": [
        {
          "output_type": "stream",
          "name": "stdout",
          "text": [
            "<class 'pandas.core.frame.DataFrame'>\n",
            "RangeIndex: 395 entries, 0 to 394\n",
            "Data columns (total 31 columns):\n",
            " #   Column      Non-Null Count  Dtype \n",
            "---  ------      --------------  ----- \n",
            " 0   school      395 non-null    object\n",
            " 1   sex         395 non-null    object\n",
            " 2   age         395 non-null    int64 \n",
            " 3   address     395 non-null    object\n",
            " 4   famsize     395 non-null    object\n",
            " 5   Pstatus     395 non-null    object\n",
            " 6   Medu        395 non-null    int64 \n",
            " 7   Fedu        395 non-null    int64 \n",
            " 8   Mjob        395 non-null    object\n",
            " 9   Fjob        395 non-null    object\n",
            " 10  reason      395 non-null    object\n",
            " 11  guardian    395 non-null    object\n",
            " 12  traveltime  395 non-null    int64 \n",
            " 13  studytime   395 non-null    int64 \n",
            " 14  failures    395 non-null    int64 \n",
            " 15  schoolsup   395 non-null    object\n",
            " 16  famsup      395 non-null    object\n",
            " 17  paid        395 non-null    object\n",
            " 18  activities  395 non-null    object\n",
            " 19  nursery     395 non-null    object\n",
            " 20  higher      395 non-null    object\n",
            " 21  internet    395 non-null    object\n",
            " 22  romantic    395 non-null    object\n",
            " 23  famrel      395 non-null    int64 \n",
            " 24  freetime    395 non-null    int64 \n",
            " 25  goout       395 non-null    int64 \n",
            " 26  Dalc        395 non-null    int64 \n",
            " 27  Walc        395 non-null    int64 \n",
            " 28  health      395 non-null    int64 \n",
            " 29  absences    395 non-null    int64 \n",
            " 30  passed      395 non-null    object\n",
            "dtypes: int64(13), object(18)\n",
            "memory usage: 95.8+ KB\n"
          ]
        }
      ]
    },
    {
      "cell_type": "code",
      "source": [
        "data.isna().sum()"
      ],
      "metadata": {
        "colab": {
          "base_uri": "https://localhost:8080/"
        },
        "id": "XxMe8J7nm5lE",
        "outputId": "92c427b7-7b9e-4165-b881-e321fe44f792"
      },
      "execution_count": 6,
      "outputs": [
        {
          "output_type": "execute_result",
          "data": {
            "text/plain": [
              "school        0\n",
              "sex           0\n",
              "age           0\n",
              "address       0\n",
              "famsize       0\n",
              "Pstatus       0\n",
              "Medu          0\n",
              "Fedu          0\n",
              "Mjob          0\n",
              "Fjob          0\n",
              "reason        0\n",
              "guardian      0\n",
              "traveltime    0\n",
              "studytime     0\n",
              "failures      0\n",
              "schoolsup     0\n",
              "famsup        0\n",
              "paid          0\n",
              "activities    0\n",
              "nursery       0\n",
              "higher        0\n",
              "internet      0\n",
              "romantic      0\n",
              "famrel        0\n",
              "freetime      0\n",
              "goout         0\n",
              "Dalc          0\n",
              "Walc          0\n",
              "health        0\n",
              "absences      0\n",
              "passed        0\n",
              "dtype: int64"
            ]
          },
          "metadata": {},
          "execution_count": 6
        }
      ]
    },
    {
      "cell_type": "code",
      "source": [
        "# Calculate number of students\n",
        "no_students =len(data.index)\n",
        "\n",
        "# Calculate number of features\n",
        "no_features = len(data.columns)\n",
        "\n",
        "# Calculate passing students\n",
        "no_passed = len(data[data['passed'] == 'yes'])\n",
        "\n",
        "# Calculate failing students\n",
        "no_failed = no_students - no_passed\n",
        "\n",
        "# Calculate graduation rate\n",
        "grad_rate = (no_passed / no_students) * 100\n",
        "print(\"Total number of students: \",no_students)\n",
        "print(\"Number of features:\",no_features)\n",
        "print(\"Number of students who passed:\",no_passed)\n",
        "print(\"Number of students who failed:\",no_failed)\n",
        "print(\"Graduation rate\",grad_rate)"
      ],
      "metadata": {
        "colab": {
          "base_uri": "https://localhost:8080/"
        },
        "id": "bGZ7D5WynVbk",
        "outputId": "736325f7-008f-4d18-fb77-72374a8c7bf8"
      },
      "execution_count": 7,
      "outputs": [
        {
          "output_type": "stream",
          "name": "stdout",
          "text": [
            "Total number of students:  395\n",
            "Number of features: 31\n",
            "Number of students who passed: 265\n",
            "Number of students who failed: 130\n",
            "Graduation rate 67.08860759493672\n"
          ]
        }
      ]
    },
    {
      "cell_type": "markdown",
      "source": [
        "# **Preparing data for modeling,testing and training**"
      ],
      "metadata": {
        "id": "DdLQShBTsmIZ"
      }
    },
    {
      "cell_type": "markdown",
      "source": [
        "**Inspecting feature columns and target columns**"
      ],
      "metadata": {
        "id": "FDh-GyXes5M6"
      }
    },
    {
      "cell_type": "code",
      "source": [
        "print(data.columns)\n",
        "d1=data.drop('passed',axis=1)\n",
        "print('Feature columns:\\n',d1)\n",
        "d2=data['passed']\n",
        "print('Target column:\\n',d2)"
      ],
      "metadata": {
        "colab": {
          "base_uri": "https://localhost:8080/"
        },
        "id": "QTVuwiqdtB7K",
        "outputId": "8aebfa25-fcd7-4785-a855-d252898112ad"
      },
      "execution_count": 8,
      "outputs": [
        {
          "output_type": "stream",
          "name": "stdout",
          "text": [
            "Index(['school', 'sex', 'age', 'address', 'famsize', 'Pstatus', 'Medu', 'Fedu',\n",
            "       'Mjob', 'Fjob', 'reason', 'guardian', 'traveltime', 'studytime',\n",
            "       'failures', 'schoolsup', 'famsup', 'paid', 'activities', 'nursery',\n",
            "       'higher', 'internet', 'romantic', 'famrel', 'freetime', 'goout', 'Dalc',\n",
            "       'Walc', 'health', 'absences', 'passed'],\n",
            "      dtype='object')\n",
            "Feature columns:\n",
            "     school sex  age address famsize Pstatus  Medu  Fedu      Mjob      Fjob  \\\n",
            "0       GP   F   18       U     GT3       A     4     4   at_home   teacher   \n",
            "1       GP   F   17       U     GT3       T     1     1   at_home     other   \n",
            "2       GP   F   15       U     LE3       T     1     1   at_home     other   \n",
            "3       GP   F   15       U     GT3       T     4     2    health  services   \n",
            "4       GP   F   16       U     GT3       T     3     3     other     other   \n",
            "..     ...  ..  ...     ...     ...     ...   ...   ...       ...       ...   \n",
            "390     MS   M   20       U     LE3       A     2     2  services  services   \n",
            "391     MS   M   17       U     LE3       T     3     1  services  services   \n",
            "392     MS   M   21       R     GT3       T     1     1     other     other   \n",
            "393     MS   M   18       R     LE3       T     3     2  services     other   \n",
            "394     MS   M   19       U     LE3       T     1     1     other   at_home   \n",
            "\n",
            "     ... higher internet  romantic  famrel  freetime goout Dalc Walc health  \\\n",
            "0    ...    yes       no        no       4         3     4    1    1      3   \n",
            "1    ...    yes      yes        no       5         3     3    1    1      3   \n",
            "2    ...    yes      yes        no       4         3     2    2    3      3   \n",
            "3    ...    yes      yes       yes       3         2     2    1    1      5   \n",
            "4    ...    yes       no        no       4         3     2    1    2      5   \n",
            "..   ...    ...      ...       ...     ...       ...   ...  ...  ...    ...   \n",
            "390  ...    yes       no        no       5         5     4    4    5      4   \n",
            "391  ...    yes      yes        no       2         4     5    3    4      2   \n",
            "392  ...    yes       no        no       5         5     3    3    3      3   \n",
            "393  ...    yes      yes        no       4         4     1    3    4      5   \n",
            "394  ...    yes      yes        no       3         2     3    3    3      5   \n",
            "\n",
            "    absences  \n",
            "0          6  \n",
            "1          4  \n",
            "2         10  \n",
            "3          2  \n",
            "4          4  \n",
            "..       ...  \n",
            "390       11  \n",
            "391        3  \n",
            "392        3  \n",
            "393        0  \n",
            "394        5  \n",
            "\n",
            "[395 rows x 30 columns]\n",
            "Target column:\n",
            " 0       no\n",
            "1       no\n",
            "2      yes\n",
            "3      yes\n",
            "4      yes\n",
            "      ... \n",
            "390     no\n",
            "391    yes\n",
            "392     no\n",
            "393    yes\n",
            "394     no\n",
            "Name: passed, Length: 395, dtype: object\n"
          ]
        }
      ]
    },
    {
      "cell_type": "markdown",
      "source": [
        "Preprocessing feature columns:\n",
        "Conversion of column values to numerical format\n",
        "1.Replacing columns with non numerical data of the form yes/no with 1/o\n",
        "2.One hot encoding for categorical columns "
      ],
      "metadata": {
        "id": "Pf7DSlhXvP0e"
      }
    },
    {
      "cell_type": "code",
      "source": [
        "data.dtypes"
      ],
      "metadata": {
        "colab": {
          "base_uri": "https://localhost:8080/"
        },
        "id": "dEDhIgP_v1HY",
        "outputId": "c8d8cb91-fe76-40ec-9a91-9d918f1956dd"
      },
      "execution_count": 9,
      "outputs": [
        {
          "output_type": "execute_result",
          "data": {
            "text/plain": [
              "school        object\n",
              "sex           object\n",
              "age            int64\n",
              "address       object\n",
              "famsize       object\n",
              "Pstatus       object\n",
              "Medu           int64\n",
              "Fedu           int64\n",
              "Mjob          object\n",
              "Fjob          object\n",
              "reason        object\n",
              "guardian      object\n",
              "traveltime     int64\n",
              "studytime      int64\n",
              "failures       int64\n",
              "schoolsup     object\n",
              "famsup        object\n",
              "paid          object\n",
              "activities    object\n",
              "nursery       object\n",
              "higher        object\n",
              "internet      object\n",
              "romantic      object\n",
              "famrel         int64\n",
              "freetime       int64\n",
              "goout          int64\n",
              "Dalc           int64\n",
              "Walc           int64\n",
              "health         int64\n",
              "absences       int64\n",
              "passed        object\n",
              "dtype: object"
            ]
          },
          "metadata": {},
          "execution_count": 9
        }
      ]
    },
    {
      "cell_type": "markdown",
      "source": [
        "Replacing y/n values with 1 and 0"
      ],
      "metadata": {
        "id": "2-rVx3QUxNCT"
      }
    },
    {
      "cell_type": "code",
      "source": [
        "for c in d1[['higher','internet','romantic']]:\n",
        "    d1=d1.replace(['yes', 'no'], [1, 0])\n",
        "print(d1.head())"
      ],
      "metadata": {
        "colab": {
          "base_uri": "https://localhost:8080/"
        },
        "id": "_f1tzN-Pv5QT",
        "outputId": "20412ec2-fd39-410d-b594-bb1a4686be4c"
      },
      "execution_count": 10,
      "outputs": [
        {
          "output_type": "stream",
          "name": "stdout",
          "text": [
            "  school sex  age address famsize Pstatus  Medu  Fedu     Mjob      Fjob  ...  \\\n",
            "0     GP   F   18       U     GT3       A     4     4  at_home   teacher  ...   \n",
            "1     GP   F   17       U     GT3       T     1     1  at_home     other  ...   \n",
            "2     GP   F   15       U     LE3       T     1     1  at_home     other  ...   \n",
            "3     GP   F   15       U     GT3       T     4     2   health  services  ...   \n",
            "4     GP   F   16       U     GT3       T     3     3    other     other  ...   \n",
            "\n",
            "  higher internet  romantic  famrel  freetime  goout  Dalc  Walc  health  \\\n",
            "0      1        0         0       4         3      4     1     1       3   \n",
            "1      1        1         0       5         3      3     1     1       3   \n",
            "2      1        1         0       4         3      2     2     3       3   \n",
            "3      1        1         1       3         2      2     1     1       5   \n",
            "4      1        0         0       4         3      2     1     2       5   \n",
            "\n",
            "   absences  \n",
            "0         6  \n",
            "1         4  \n",
            "2        10  \n",
            "3         2  \n",
            "4         4  \n",
            "\n",
            "[5 rows x 30 columns]\n"
          ]
        }
      ]
    },
    {
      "cell_type": "markdown",
      "source": [
        "One hot encoding on categorical columns"
      ],
      "metadata": {
        "id": "V4xg6RBA342w"
      }
    },
    {
      "cell_type": "code",
      "source": [
        "d1=pd.get_dummies(d1,columns=['school','sex','address','reason','guardian','famsize','Pstatus', 'Mjob','Fjob'])\n",
        "print(d1.head())\n",
        "print(d1.dtypes)\n"
      ],
      "metadata": {
        "colab": {
          "base_uri": "https://localhost:8080/"
        },
        "id": "Kxi7X-gyxVsq",
        "outputId": "9b60343d-e8db-44bf-acc3-653dd84bf37c"
      },
      "execution_count": 11,
      "outputs": [
        {
          "output_type": "stream",
          "name": "stdout",
          "text": [
            "   age  Medu  Fedu  traveltime  studytime  failures  schoolsup  famsup  paid  \\\n",
            "0   18     4     4           2          2         0          1       0     0   \n",
            "1   17     1     1           1          2         0          0       1     0   \n",
            "2   15     1     1           1          2         3          1       0     1   \n",
            "3   15     4     2           1          3         0          0       1     1   \n",
            "4   16     3     3           1          2         0          0       1     1   \n",
            "\n",
            "   activities  ...  Mjob_at_home  Mjob_health  Mjob_other  Mjob_services  \\\n",
            "0           0  ...             1            0           0              0   \n",
            "1           0  ...             1            0           0              0   \n",
            "2           0  ...             1            0           0              0   \n",
            "3           1  ...             0            1           0              0   \n",
            "4           0  ...             0            0           1              0   \n",
            "\n",
            "   Mjob_teacher  Fjob_at_home  Fjob_health  Fjob_other  Fjob_services  \\\n",
            "0             0             0            0           0              0   \n",
            "1             0             0            0           1              0   \n",
            "2             0             0            0           1              0   \n",
            "3             0             0            0           0              1   \n",
            "4             0             0            0           1              0   \n",
            "\n",
            "   Fjob_teacher  \n",
            "0             1  \n",
            "1             0  \n",
            "2             0  \n",
            "3             0  \n",
            "4             0  \n",
            "\n",
            "[5 rows x 48 columns]\n",
            "age                  int64\n",
            "Medu                 int64\n",
            "Fedu                 int64\n",
            "traveltime           int64\n",
            "studytime            int64\n",
            "failures             int64\n",
            "schoolsup            int64\n",
            "famsup               int64\n",
            "paid                 int64\n",
            "activities           int64\n",
            "nursery              int64\n",
            "higher               int64\n",
            "internet             int64\n",
            "romantic             int64\n",
            "famrel               int64\n",
            "freetime             int64\n",
            "goout                int64\n",
            "Dalc                 int64\n",
            "Walc                 int64\n",
            "health               int64\n",
            "absences             int64\n",
            "school_GP            uint8\n",
            "school_MS            uint8\n",
            "sex_F                uint8\n",
            "sex_M                uint8\n",
            "address_R            uint8\n",
            "address_U            uint8\n",
            "reason_course        uint8\n",
            "reason_home          uint8\n",
            "reason_other         uint8\n",
            "reason_reputation    uint8\n",
            "guardian_father      uint8\n",
            "guardian_mother      uint8\n",
            "guardian_other       uint8\n",
            "famsize_GT3          uint8\n",
            "famsize_LE3          uint8\n",
            "Pstatus_A            uint8\n",
            "Pstatus_T            uint8\n",
            "Mjob_at_home         uint8\n",
            "Mjob_health          uint8\n",
            "Mjob_other           uint8\n",
            "Mjob_services        uint8\n",
            "Mjob_teacher         uint8\n",
            "Fjob_at_home         uint8\n",
            "Fjob_health          uint8\n",
            "Fjob_other           uint8\n",
            "Fjob_services        uint8\n",
            "Fjob_teacher         uint8\n",
            "dtype: object\n"
          ]
        }
      ]
    },
    {
      "cell_type": "markdown",
      "source": [
        "Splitting data set"
      ],
      "metadata": {
        "id": "uSaQDobK4SjN"
      }
    },
    {
      "cell_type": "code",
      "source": [
        "x=d1 #features\n",
        "y=d2 #target\n",
        "from sklearn.model_selection import train_test_split\n",
        "x_train,x_test,y_train,y_test=train_test_split(x,y,random_state=42,test_size=0.2)"
      ],
      "metadata": {
        "id": "j5iefKsR3-lC"
      },
      "execution_count": 12,
      "outputs": []
    },
    {
      "cell_type": "code",
      "source": [
        "x_train.shape"
      ],
      "metadata": {
        "colab": {
          "base_uri": "https://localhost:8080/"
        },
        "id": "hAqsejhq4abM",
        "outputId": "a5d74ab5-9efa-405a-c163-f6ac53a5ec81"
      },
      "execution_count": 13,
      "outputs": [
        {
          "output_type": "execute_result",
          "data": {
            "text/plain": [
              "(316, 48)"
            ]
          },
          "metadata": {},
          "execution_count": 13
        }
      ]
    },
    {
      "cell_type": "markdown",
      "source": [
        "# **Implementation of KNN**"
      ],
      "metadata": {
        "id": "ZJt4eO3q5Kqx"
      }
    },
    {
      "cell_type": "code",
      "source": [
        "from sklearn.neighbors import KNeighborsClassifier\n",
        "from sklearn.metrics import confusion_matrix,accuracy_score,precision_score,recall_score,f1_score\n",
        "acc_values=[]\n",
        "neighbors=np.arange(3,15)\n",
        "for k in neighbors:\n",
        "    classifier=KNeighborsClassifier(n_neighbors=k,metric='minkowski')\n",
        "    classifier.fit(x_train,y_train)\n",
        "    y_pred=classifier.predict(x_test)\n",
        "    acc=accuracy_score(y_test,y_pred)\n",
        "    acc_values.append(acc)"
      ],
      "metadata": {
        "id": "8m-YvvaG5TYL"
      },
      "execution_count": 14,
      "outputs": []
    },
    {
      "cell_type": "code",
      "source": [
        "acc_values"
      ],
      "metadata": {
        "colab": {
          "base_uri": "https://localhost:8080/"
        },
        "id": "7F4N5y2L5l5C",
        "outputId": "77f3ae3c-c4ed-4540-b270-0142e0ac14df"
      },
      "execution_count": 15,
      "outputs": [
        {
          "output_type": "execute_result",
          "data": {
            "text/plain": [
              "[0.6329113924050633,\n",
              " 0.6075949367088608,\n",
              " 0.6835443037974683,\n",
              " 0.620253164556962,\n",
              " 0.6582278481012658,\n",
              " 0.6075949367088608,\n",
              " 0.6582278481012658,\n",
              " 0.6455696202531646,\n",
              " 0.6455696202531646,\n",
              " 0.6075949367088608,\n",
              " 0.6708860759493671,\n",
              " 0.6962025316455697]"
            ]
          },
          "metadata": {},
          "execution_count": 15
        }
      ]
    },
    {
      "cell_type": "code",
      "source": [
        "plt.plot(neighbors,acc_values,'o-')\n",
        "plt.show()"
      ],
      "metadata": {
        "colab": {
          "base_uri": "https://localhost:8080/",
          "height": 268
        },
        "id": "lOytNn8p5uVe",
        "outputId": "cbb49669-6459-4b92-989a-61ce7d52f8e3"
      },
      "execution_count": 16,
      "outputs": [
        {
          "output_type": "display_data",
          "data": {
            "text/plain": [
              "<Figure size 432x288 with 1 Axes>"
            ],
            "image/png": "[encoded data removed]"
          },
          "metadata": {
            "needs_background": "light"
          }
        }
      ]
    },
    {
      "cell_type": "markdown",
      "source": [
        "KNN with k=14"
      ],
      "metadata": {
        "id": "l1DQPGL17KEd"
      }
    },
    {
      "cell_type": "code",
      "source": [
        "from sklearn.neighbors import KNeighborsClassifier\n",
        "acc_values=[]\n",
        "neighbors=np.arange(3,15)\n",
        "for k in neighbors:\n",
        "    classifier=KNeighborsClassifier(n_neighbors=14,metric='minkowski')\n",
        "    classifier.fit(x_train,y_train)\n",
        "    y_pred=classifier.predict(x_test)\n",
        "    acc=accuracy_score(y_test,y_pred)\n",
        "    acc_values.append(acc)\n"
      ],
      "metadata": {
        "id": "CQvEMeV06CMp"
      },
      "execution_count": 17,
      "outputs": []
    },
    {
      "cell_type": "code",
      "source": [
        "print('Accuracy is',accuracy_score(y_test,y_pred))\n",
        "print('Precision is',precision_score(y_test,y_pred,pos_label='yes'))\n",
        "print('Recall is',recall_score(y_test,y_pred,pos_label='yes'))\n",
        "print('F1 score is',f1_score(y_test,y_pred,pos_label='yes'))"
      ],
      "metadata": {
        "colab": {
          "base_uri": "https://localhost:8080/"
        },
        "id": "SRDVHH1C6I6H",
        "outputId": "f7908503-0200-4163-b615-63ecb075ca80"
      },
      "execution_count": 18,
      "outputs": [
        {
          "output_type": "stream",
          "name": "stdout",
          "text": [
            "Accuracy is 0.6962025316455697\n",
            "Precision is 0.7\n",
            "Recall is 0.9423076923076923\n",
            "F1 score is 0.8032786885245902\n"
          ]
        }
      ]
    },
    {
      "cell_type": "code",
      "source": [
        "confusion_matrix(y_test,y_pred)"
      ],
      "metadata": {
        "colab": {
          "base_uri": "https://localhost:8080/"
        },
        "id": "NVS5jENb-aXw",
        "outputId": "a4d4153e-49a5-4ef4-dd24-d4c9ae288a4e"
      },
      "execution_count": 19,
      "outputs": [
        {
          "output_type": "execute_result",
          "data": {
            "text/plain": [
              "array([[ 6, 21],\n",
              "       [ 3, 49]])"
            ]
          },
          "metadata": {},
          "execution_count": 19
        }
      ]
    },
    {
      "cell_type": "markdown",
      "source": [
        "There are 27 misclassifications"
      ],
      "metadata": {
        "id": "j4HX5Uez-dfH"
      }
    },
    {
      "cell_type": "markdown",
      "source": [
        "standard scaling"
      ],
      "metadata": {
        "id": "ydi89m4R8Wjd"
      }
    },
    {
      "cell_type": "code",
      "source": [
        "d1.describe()"
      ],
      "metadata": {
        "colab": {
          "base_uri": "https://localhost:8080/",
          "height": 394
        },
        "id": "baGUZUo88ZcP",
        "outputId": "d901de67-d9c6-45ee-cad7-2f10f249e954"
      },
      "execution_count": 20,
      "outputs": [
        {
          "output_type": "execute_result",
          "data": {
            "text/plain": [
              "              age        Medu        Fedu  traveltime   studytime    failures  \\\n",
              "count  395.000000  395.000000  395.000000  395.000000  395.000000  395.000000   \n",
              "mean    16.696203    2.749367    2.521519    1.448101    2.035443    0.334177   \n",
              "std      1.276043    1.094735    1.088201    0.697505    0.839240    0.743651   \n",
              "min     15.000000    0.000000    0.000000    1.000000    1.000000    0.000000   \n",
              "25%     16.000000    2.000000    2.000000    1.000000    1.000000    0.000000   \n",
              "50%     17.000000    3.000000    2.000000    1.000000    2.000000    0.000000   \n",
              "75%     18.000000    4.000000    3.000000    2.000000    2.000000    0.000000   \n",
              "max     22.000000    4.000000    4.000000    4.000000    4.000000    3.000000   \n",
              "\n",
              "        schoolsup      famsup        paid  activities  ...  Mjob_at_home  \\\n",
              "count  395.000000  395.000000  395.000000  395.000000  ...    395.000000   \n",
              "mean     0.129114    0.612658    0.458228    0.508861  ...      0.149367   \n",
              "std      0.335751    0.487761    0.498884    0.500555  ...      0.356902   \n",
              "min      0.000000    0.000000    0.000000    0.000000  ...      0.000000   \n",
              "25%      0.000000    0.000000    0.000000    0.000000  ...      0.000000   \n",
              "50%      0.000000    1.000000    0.000000    1.000000  ...      0.000000   \n",
              "75%      0.000000    1.000000    1.000000    1.000000  ...      0.000000   \n",
              "max      1.000000    1.000000    1.000000    1.000000  ...      1.000000   \n",
              "\n",
              "       Mjob_health  Mjob_other  Mjob_services  Mjob_teacher  Fjob_at_home  \\\n",
              "count   395.000000  395.000000     395.000000    395.000000    395.000000   \n",
              "mean      0.086076    0.356962       0.260759      0.146835      0.050633   \n",
              "std       0.280832    0.479711       0.439606      0.354391      0.219525   \n",
              "min       0.000000    0.000000       0.000000      0.000000      0.000000   \n",
              "25%       0.000000    0.000000       0.000000      0.000000      0.000000   \n",
              "50%       0.000000    0.000000       0.000000      0.000000      0.000000   \n",
              "75%       0.000000    1.000000       1.000000      0.000000      0.000000   \n",
              "max       1.000000    1.000000       1.000000      1.000000      1.000000   \n",
              "\n",
              "       Fjob_health  Fjob_other  Fjob_services  Fjob_teacher  \n",
              "count   395.000000  395.000000     395.000000    395.000000  \n",
              "mean      0.045570    0.549367       0.281013      0.073418  \n",
              "std       0.208814    0.498188       0.450064      0.261152  \n",
              "min       0.000000    0.000000       0.000000      0.000000  \n",
              "25%       0.000000    0.000000       0.000000      0.000000  \n",
              "50%       0.000000    1.000000       0.000000      0.000000  \n",
              "75%       0.000000    1.000000       1.000000      0.000000  \n",
              "max       1.000000    1.000000       1.000000      1.000000  \n",
              "\n",
              "[8 rows x 48 columns]"
            ],
            "text/html": [
              "\n",
              "  <div id=\"df-b7f3bc5a-8779-424d-8dc7-47afea846e6a\">\n",
              "    <div class=\"colab-df-container\">\n",
              "      <div>\n",
              "<style scoped>\n",
              "    .dataframe tbody tr th:only-of-type {\n",
              "        vertical-align: middle;\n",
              "    }\n",
              "\n",
              "    .dataframe tbody tr th {\n",
              "        vertical-align: top;\n",
              "    }\n",
              "\n",
              "    .dataframe thead th {\n",
              "        text-align: right;\n",
              "    }\n",
              "</style>\n",
              "<table border=\"1\" class=\"dataframe\">\n",
              "  <thead>\n",
              "    <tr style=\"text-align: right;\">\n",
              "      <th></th>\n",
              "      <th>age</th>\n",
              "      <th>Medu</th>\n",
              "      <th>Fedu</th>\n",
              "      <th>traveltime</th>\n",
              "      <th>studytime</th>\n",
              "      <th>failures</th>\n",
              "      <th>schoolsup</th>\n",
              "      <th>famsup</th>\n",
              "      <th>paid</th>\n",
              "      <th>activities</th>\n",
              "      <th>...</th>\n",
              "      <th>Mjob_at_home</th>\n",
              "      <th>Mjob_health</th>\n",
              "      <th>Mjob_other</th>\n",
              "      <th>Mjob_services</th>\n",
              "      <th>Mjob_teacher</th>\n",
              "      <th>Fjob_at_home</th>\n",
              "      <th>Fjob_health</th>\n",
              "      <th>Fjob_other</th>\n",
              "      <th>Fjob_services</th>\n",
              "      <th>Fjob_teacher</th>\n",
              "    </tr>\n",
              "  </thead>\n",
              "  <tbody>\n",
              "    <tr>\n",
              "      <th>count</th>\n",
              "      <td>395.000000</td>\n",
              "      <td>395.000000</td>\n",
              "      <td>395.000000</td>\n",
              "      <td>395.000000</td>\n",
              "      <td>395.000000</td>\n",
              "      <td>395.000000</td>\n",
              "      <td>395.000000</td>\n",
              "      <td>395.000000</td>\n",
              "      <td>395.000000</td>\n",
              "      <td>395.000000</td>\n",
              "      <td>...</td>\n",
              "      <td>395.000000</td>\n",
              "      <td>395.000000</td>\n",
              "      <td>395.000000</td>\n",
              "      <td>395.000000</td>\n",
              "      <td>395.000000</td>\n",
              "      <td>395.000000</td>\n",
              "      <td>395.000000</td>\n",
              "      <td>395.000000</td>\n",
              "      <td>395.000000</td>\n",
              "      <td>395.000000</td>\n",
              "    </tr>\n",
              "    <tr>\n",
              "      <th>mean</th>\n",
              "      <td>16.696203</td>\n",
              "      <td>2.749367</td>\n",
              "      <td>2.521519</td>\n",
              "      <td>1.448101</td>\n",
              "      <td>2.035443</td>\n",
              "      <td>0.334177</td>\n",
              "      <td>0.129114</td>\n",
              "      <td>0.612658</td>\n",
              "      <td>0.458228</td>\n",
              "      <td>0.508861</td>\n",
              "      <td>...</td>\n",
              "      <td>0.149367</td>\n",
              "      <td>0.086076</td>\n",
              "      <td>0.356962</td>\n",
              "      <td>0.260759</td>\n",
              "      <td>0.146835</td>\n",
              "      <td>0.050633</td>\n",
              "      <td>0.045570</td>\n",
              "      <td>0.549367</td>\n",
              "      <td>0.281013</td>\n",
              "      <td>0.073418</td>\n",
              "    </tr>\n",
              "    <tr>\n",
              "      <th>std</th>\n",
              "      <td>1.276043</td>\n",
              "      <td>1.094735</td>\n",
              "      <td>1.088201</td>\n",
              "      <td>0.697505</td>\n",
              "      <td>0.839240</td>\n",
              "      <td>0.743651</td>\n",
              "      <td>0.335751</td>\n",
              "      <td>0.487761</td>\n",
              "      <td>0.498884</td>\n",
              "      <td>0.500555</td>\n",
              "      <td>...</td>\n",
              "      <td>0.356902</td>\n",
              "      <td>0.280832</td>\n",
              "      <td>0.479711</td>\n",
              "      <td>0.439606</td>\n",
              "      <td>0.354391</td>\n",
              "      <td>0.219525</td>\n",
              "      <td>0.208814</td>\n",
              "      <td>0.498188</td>\n",
              "      <td>0.450064</td>\n",
              "      <td>0.261152</td>\n",
              "    </tr>\n",
              "    <tr>\n",
              "      <th>min</th>\n",
              "      <td>15.000000</td>\n",
              "      <td>0.000000</td>\n",
              "      <td>0.000000</td>\n",
              "      <td>1.000000</td>\n",
              "      <td>1.000000</td>\n",
              "      <td>0.000000</td>\n",
              "      <td>0.000000</td>\n",
              "      <td>0.000000</td>\n",
              "      <td>0.000000</td>\n",
              "      <td>0.000000</td>\n",
              "      <td>...</td>\n",
              "      <td>0.000000</td>\n",
              "      <td>0.000000</td>\n",
              "      <td>0.000000</td>\n",
              "      <td>0.000000</td>\n",
              "      <td>0.000000</td>\n",
              "      <td>0.000000</td>\n",
              "      <td>0.000000</td>\n",
              "      <td>0.000000</td>\n",
              "      <td>0.000000</td>\n",
              "      <td>0.000000</td>\n",
              "    </tr>\n",
              "    <tr>\n",
              "      <th>25%</th>\n",
              "      <td>16.000000</td>\n",
              "      <td>2.000000</td>\n",
              "      <td>2.000000</td>\n",
              "      <td>1.000000</td>\n",
              "      <td>1.000000</td>\n",
              "      <td>0.000000</td>\n",
              "      <td>0.000000</td>\n",
              "      <td>0.000000</td>\n",
              "      <td>0.000000</td>\n",
              "      <td>0.000000</td>\n",
              "      <td>...</td>\n",
              "      <td>0.000000</td>\n",
              "      <td>0.000000</td>\n",
              "      <td>0.000000</td>\n",
              "      <td>0.000000</td>\n",
              "      <td>0.000000</td>\n",
              "      <td>0.000000</td>\n",
              "      <td>0.000000</td>\n",
              "      <td>0.000000</td>\n",
              "      <td>0.000000</td>\n",
              "      <td>0.000000</td>\n",
              "    </tr>\n",
              "    <tr>\n",
              "      <th>50%</th>\n",
              "      <td>17.000000</td>\n",
              "      <td>3.000000</td>\n",
              "      <td>2.000000</td>\n",
              "      <td>1.000000</td>\n",
              "      <td>2.000000</td>\n",
              "      <td>0.000000</td>\n",
              "      <td>0.000000</td>\n",
              "      <td>1.000000</td>\n",
              "      <td>0.000000</td>\n",
              "      <td>1.000000</td>\n",
              "      <td>...</td>\n",
              "      <td>0.000000</td>\n",
              "      <td>0.000000</td>\n",
              "      <td>0.000000</td>\n",
              "      <td>0.000000</td>\n",
              "      <td>0.000000</td>\n",
              "      <td>0.000000</td>\n",
              "      <td>0.000000</td>\n",
              "      <td>1.000000</td>\n",
              "      <td>0.000000</td>\n",
              "      <td>0.000000</td>\n",
              "    </tr>\n",
              "    <tr>\n",
              "      <th>75%</th>\n",
              "      <td>18.000000</td>\n",
              "      <td>4.000000</td>\n",
              "      <td>3.000000</td>\n",
              "      <td>2.000000</td>\n",
              "      <td>2.000000</td>\n",
              "      <td>0.000000</td>\n",
              "      <td>0.000000</td>\n",
              "      <td>1.000000</td>\n",
              "      <td>1.000000</td>\n",
              "      <td>1.000000</td>\n",
              "      <td>...</td>\n",
              "      <td>0.000000</td>\n",
              "      <td>0.000000</td>\n",
              "      <td>1.000000</td>\n",
              "      <td>1.000000</td>\n",
              "      <td>0.000000</td>\n",
              "      <td>0.000000</td>\n",
              "      <td>0.000000</td>\n",
              "      <td>1.000000</td>\n",
              "      <td>1.000000</td>\n",
              "      <td>0.000000</td>\n",
              "    </tr>\n",
              "    <tr>\n",
              "      <th>max</th>\n",
              "      <td>22.000000</td>\n",
              "      <td>4.000000</td>\n",
              "      <td>4.000000</td>\n",
              "      <td>4.000000</td>\n",
              "      <td>4.000000</td>\n",
              "      <td>3.000000</td>\n",
              "      <td>1.000000</td>\n",
              "      <td>1.000000</td>\n",
              "      <td>1.000000</td>\n",
              "      <td>1.000000</td>\n",
              "      <td>...</td>\n",
              "      <td>1.000000</td>\n",
              "      <td>1.000000</td>\n",
              "      <td>1.000000</td>\n",
              "      <td>1.000000</td>\n",
              "      <td>1.000000</td>\n",
              "      <td>1.000000</td>\n",
              "      <td>1.000000</td>\n",
              "      <td>1.000000</td>\n",
              "      <td>1.000000</td>\n",
              "      <td>1.000000</td>\n",
              "    </tr>\n",
              "  </tbody>\n",
              "</table>\n",
              "<p>8 rows × 48 columns</p>\n",
              "</div>\n",
              "      <button class=\"colab-df-convert\" onclick=\"convertToInteractive('df-b7f3bc5a-8779-424d-8dc7-47afea846e6a')\"\n",
              "              title=\"Convert this dataframe to an interactive table.\"\n",
              "              style=\"display:none;\">\n",
              "        \n",
              "  <svg xmlns=\"http://www.w3.org/2000/svg\" height=\"24px\"viewBox=\"0 0 24 24\"\n",
              "       width=\"24px\">\n",
              "    <path d=\"M0 0h24v24H0V0z\" fill=\"none\"/>\n",
              "    <path d=\"M18.56 5.44l.94 2.06.94-2.06 2.06-.94-2.06-.94-.94-2.06-.94 2.06-2.06.94zm-11 1L8.5 8.5l.94-2.06 2.06-.94-2.06-.94L8.5 2.5l-.94 2.06-2.06.94zm10 10l.94 2.06.94-2.06 2.06-.94-2.06-.94-.94-2.06-.94 2.06-2.06.94z\"/><path d=\"M17.41 7.96l-1.37-1.37c-.4-.4-.92-.59-1.43-.59-.52 0-1.04.2-1.43.59L10.3 9.45l-7.72 7.72c-.78.78-.78 2.05 0 2.83L4 21.41c.39.39.9.59 1.41.59.51 0 1.02-.2 1.41-.59l7.78-7.78 2.81-2.81c.8-.78.8-2.07 0-2.86zM5.41 20L4 18.59l7.72-7.72 1.47 1.35L5.41 20z\"/>\n",
              "  </svg>\n",
              "      </button>\n",
              "      \n",
              "  <style>\n",
              "    .colab-df-container {\n",
              "      display:flex;\n",
              "      flex-wrap:wrap;\n",
              "      gap: 12px;\n",
              "    }\n",
              "\n",
              "    .colab-df-convert {\n",
              "      background-color: #E8F0FE;\n",
              "      border: none;\n",
              "      border-radius: 50%;\n",
              "      cursor: pointer;\n",
              "      display: none;\n",
              "      fill: #1967D2;\n",
              "      height: 32px;\n",
              "      padding: 0 0 0 0;\n",
              "      width: 32px;\n",
              "    }\n",
              "\n",
              "    .colab-df-convert:hover {\n",
              "      background-color: #E2EBFA;\n",
              "      box-shadow: 0px 1px 2px rgba(60, 64, 67, 0.3), 0px 1px 3px 1px rgba(60, 64, 67, 0.15);\n",
              "      fill: #174EA6;\n",
              "    }\n",
              "\n",
              "    [theme=dark] .colab-df-convert {\n",
              "      background-color: #3B4455;\n",
              "      fill: #D2E3FC;\n",
              "    }\n",
              "\n",
              "    [theme=dark] .colab-df-convert:hover {\n",
              "      background-color: #434B5C;\n",
              "      box-shadow: 0px 1px 3px 1px rgba(0, 0, 0, 0.15);\n",
              "      filter: drop-shadow(0px 1px 2px rgba(0, 0, 0, 0.3));\n",
              "      fill: #FFFFFF;\n",
              "    }\n",
              "  </style>\n",
              "\n",
              "      <script>\n",
              "        const buttonEl =\n",
              "          document.querySelector('#df-b7f3bc5a-8779-424d-8dc7-47afea846e6a button.colab-df-convert');\n",
              "        buttonEl.style.display =\n",
              "          google.colab.kernel.accessAllowed ? 'block' : 'none';\n",
              "\n",
              "        async function convertToInteractive(key) {\n",
              "          const element = document.querySelector('#df-b7f3bc5a-8779-424d-8dc7-47afea846e6a');\n",
              "          const dataTable =\n",
              "            await google.colab.kernel.invokeFunction('convertToInteractive',\n",
              "                                                     [key], {});\n",
              "          if (!dataTable) return;\n",
              "\n",
              "          const docLinkHtml = 'Like what you see? Visit the ' +\n",
              "            '<a target=\"_blank\" href=https://colab.research.google.com/notebooks/data_table.ipynb>data table notebook</a>'\n",
              "            + ' to learn more about interactive tables.';\n",
              "          element.innerHTML = '';\n",
              "          dataTable['output_type'] = 'display_data';\n",
              "          await google.colab.output.renderOutput(dataTable, element);\n",
              "          const docLink = document.createElement('div');\n",
              "          docLink.innerHTML = docLinkHtml;\n",
              "          element.appendChild(docLink);\n",
              "        }\n",
              "      </script>\n",
              "    </div>\n",
              "  </div>\n",
              "  "
            ]
          },
          "metadata": {},
          "execution_count": 20
        }
      ]
    },
    {
      "cell_type": "code",
      "source": [
        "from sklearn.preprocessing import StandardScaler\n",
        "scaler=StandardScaler()\n",
        "x_train=scaler.fit_transform(x_train)\n",
        "x_test=scaler.fit_transform(x_test)"
      ],
      "metadata": {
        "id": "CmOZfC358tGH"
      },
      "execution_count": 21,
      "outputs": []
    },
    {
      "cell_type": "code",
      "source": [
        "from sklearn.neighbors import KNeighborsClassifier\n",
        "acc_values=[]\n",
        "neighbors=np.arange(3,15)\n",
        "for k in neighbors:\n",
        "    classifier=KNeighborsClassifier(n_neighbors=k,metric='minkowski')\n",
        "    classifier.fit(x_train,y_train)\n",
        "    y_pred=classifier.predict(x_test)\n",
        "    acc=accuracy_score(y_test,y_pred)\n",
        "    acc_values.append(acc)\n",
        "plt.plot(neighbors,acc_values,'o-')\n",
        "plt.show()"
      ],
      "metadata": {
        "colab": {
          "base_uri": "https://localhost:8080/",
          "height": 265
        },
        "id": "MCpsv87h8w2W",
        "outputId": "59222b3d-f132-4bc6-ad9e-d84e1c8738b2"
      },
      "execution_count": 22,
      "outputs": [
        {
          "output_type": "display_data",
          "data": {
            "text/plain": [
              "<Figure size 432x288 with 1 Axes>"
            ],
            "image/png": "[encoded data removed]"
          },
          "metadata": {
            "needs_background": "light"
          }
        }
      ]
    },
    {
      "cell_type": "code",
      "source": [
        "from sklearn.neighbors import KNeighborsClassifier\n",
        "acc_values=[]\n",
        "neighbors=np.arange(3,15)\n",
        "for k in neighbors:\n",
        "    classifier=KNeighborsClassifier(n_neighbors=9,metric='minkowski')\n",
        "    classifier.fit(x_train,y_train)\n",
        "    y_pred=classifier.predict(x_test)\n",
        "    acc=accuracy_score(y_test,y_pred)\n",
        "    acc_values.append(acc)"
      ],
      "metadata": {
        "id": "6396QpnY-D32"
      },
      "execution_count": 23,
      "outputs": []
    },
    {
      "cell_type": "code",
      "source": [
        "print('Accuracy is',accuracy_score(y_test,y_pred))\n",
        "print('Precision is',precision_score(y_test,y_pred,pos_label='yes'))\n",
        "print('Recall is',recall_score(y_test,y_pred,pos_label='yes'))\n",
        "print('F1 score is',f1_score(y_test,y_pred,pos_label='yes'))"
      ],
      "metadata": {
        "colab": {
          "base_uri": "https://localhost:8080/"
        },
        "id": "DNDwyP_C83Bq",
        "outputId": "f5462a86-af9a-4875-aff2-a30e160ed309"
      },
      "execution_count": 24,
      "outputs": [
        {
          "output_type": "stream",
          "name": "stdout",
          "text": [
            "Accuracy is 0.6582278481012658\n",
            "Precision is 0.6811594202898551\n",
            "Recall is 0.9038461538461539\n",
            "F1 score is 0.7768595041322315\n"
          ]
        }
      ]
    },
    {
      "cell_type": "code",
      "source": [
        "confusion_matrix(y_test,y_pred)"
      ],
      "metadata": {
        "colab": {
          "base_uri": "https://localhost:8080/"
        },
        "id": "g25S3A9c-msn",
        "outputId": "be05f9b7-69c9-467b-b04d-81070b54a0b9"
      },
      "execution_count": 25,
      "outputs": [
        {
          "output_type": "execute_result",
          "data": {
            "text/plain": [
              "array([[ 5, 22],\n",
              "       [ 5, 47]])"
            ]
          },
          "metadata": {},
          "execution_count": 25
        }
      ]
    },
    {
      "cell_type": "markdown",
      "source": [
        "Standard scaling is decreasing performance of KVM model.so scaling is not necessary"
      ],
      "metadata": {
        "id": "e-NHbATX9CH_"
      }
    },
    {
      "cell_type": "markdown",
      "source": [
        "# **Implementation of DT**"
      ],
      "metadata": {
        "id": "x5JwE9Lq7lIO"
      }
    },
    {
      "cell_type": "code",
      "source": [
        "x=d1 #features\n",
        "y=d2 #target\n",
        "from sklearn.model_selection import train_test_split\n",
        "x_train,x_test,y_train,y_test=train_test_split(x,y,random_state=42,test_size=0.2)"
      ],
      "metadata": {
        "id": "dZrYKHqVAa1b"
      },
      "execution_count": 51,
      "outputs": []
    },
    {
      "cell_type": "code",
      "source": [
        "from sklearn.tree import DecisionTreeClassifier"
      ],
      "metadata": {
        "id": "A4o7sjIG_GUb"
      },
      "execution_count": 52,
      "outputs": []
    },
    {
      "cell_type": "code",
      "source": [
        "dt_model=DecisionTreeClassifier()"
      ],
      "metadata": {
        "id": "hSehvZ6dACAO"
      },
      "execution_count": 53,
      "outputs": []
    },
    {
      "cell_type": "code",
      "source": [
        "dt_model.fit(x_train,y_train)"
      ],
      "metadata": {
        "colab": {
          "base_uri": "https://localhost:8080/"
        },
        "id": "xSqY6zEtAM1h",
        "outputId": "ac3ec852-4254-40f7-9768-2dde092fcdf0"
      },
      "execution_count": 54,
      "outputs": [
        {
          "output_type": "execute_result",
          "data": {
            "text/plain": [
              "DecisionTreeClassifier()"
            ]
          },
          "metadata": {},
          "execution_count": 54
        }
      ]
    },
    {
      "cell_type": "code",
      "source": [
        "y_pred=dt_model.predict(x_test)\n",
        "print('Accuracy is',accuracy_score(y_test,y_pred))\n"
      ],
      "metadata": {
        "colab": {
          "base_uri": "https://localhost:8080/"
        },
        "id": "aoNz2wvwA1jT",
        "outputId": "0f655981-5825-4616-cbfc-c71b646afd2b"
      },
      "execution_count": 55,
      "outputs": [
        {
          "output_type": "stream",
          "name": "stdout",
          "text": [
            "Accuracy is 0.6075949367088608\n"
          ]
        }
      ]
    },
    {
      "cell_type": "code",
      "source": [
        "confusion_matrix(y_test,y_pred)"
      ],
      "metadata": {
        "colab": {
          "base_uri": "https://localhost:8080/"
        },
        "id": "zYvT_KkFCINt",
        "outputId": "12a92d32-a80d-41f4-82c5-f7e56d10770f"
      },
      "execution_count": 56,
      "outputs": [
        {
          "output_type": "execute_result",
          "data": {
            "text/plain": [
              "array([[10, 17],\n",
              "       [14, 38]])"
            ]
          },
          "metadata": {},
          "execution_count": 56
        }
      ]
    },
    {
      "cell_type": "markdown",
      "source": [
        "Misclassifications=31 "
      ],
      "metadata": {
        "id": "1z4AR1hCCLgn"
      }
    },
    {
      "cell_type": "code",
      "source": [
        "from sklearn.preprocessing import StandardScaler\n",
        "scaler=StandardScaler()\n",
        "x_train=scaler.fit_transform(x_train)\n",
        "x_test=scaler.fit_transform(x_test)"
      ],
      "metadata": {
        "id": "2DW3J9cBEI8s"
      },
      "execution_count": 57,
      "outputs": []
    },
    {
      "cell_type": "code",
      "source": [
        "dt_model.fit(x_train,y_train)\n",
        "y_pred=dt_model.predict(x_test)\n",
        "print('Accuracy is',accuracy_score(y_test,y_pred))\n",
        "confusion_matrix(y_test,y_pred)"
      ],
      "metadata": {
        "colab": {
          "base_uri": "https://localhost:8080/"
        },
        "id": "HEne0QSrEO8-",
        "outputId": "13a449f3-a944-40bd-ce7b-432c7235f6b4"
      },
      "execution_count": 58,
      "outputs": [
        {
          "output_type": "stream",
          "name": "stdout",
          "text": [
            "Accuracy is 0.6075949367088608\n"
          ]
        },
        {
          "output_type": "execute_result",
          "data": {
            "text/plain": [
              "array([[10, 17],\n",
              "       [14, 38]])"
            ]
          },
          "metadata": {},
          "execution_count": 58
        }
      ]
    },
    {
      "cell_type": "markdown",
      "source": [
        "# **Implementation of SVM**"
      ],
      "metadata": {
        "id": "YkeBQ_Q-CYGX"
      }
    },
    {
      "cell_type": "code",
      "source": [
        "from sklearn.svm import SVC"
      ],
      "metadata": {
        "id": "9j-exzIrCnzL"
      },
      "execution_count": 34,
      "outputs": []
    },
    {
      "cell_type": "code",
      "source": [
        "svm_linear=SVC(kernel='linear')"
      ],
      "metadata": {
        "id": "5m0nT3RMCwNu"
      },
      "execution_count": 35,
      "outputs": []
    },
    {
      "cell_type": "code",
      "source": [
        "x=d1 #features\n",
        "y=d2 #target\n",
        "from sklearn.model_selection import train_test_split\n",
        "x_train,x_test,y_train,y_test=train_test_split(x,y,random_state=42,test_size=0.2)"
      ],
      "metadata": {
        "id": "ILBzrZm-Ec--"
      },
      "execution_count": 36,
      "outputs": []
    },
    {
      "cell_type": "code",
      "source": [
        "svm_linear.fit(x_train,y_train)"
      ],
      "metadata": {
        "colab": {
          "base_uri": "https://localhost:8080/"
        },
        "id": "hywjUzlOC2H5",
        "outputId": "33994c72-acfa-44bd-f3a6-ceaafd4e5350"
      },
      "execution_count": 37,
      "outputs": [
        {
          "output_type": "execute_result",
          "data": {
            "text/plain": [
              "SVC(kernel='linear')"
            ]
          },
          "metadata": {},
          "execution_count": 37
        }
      ]
    },
    {
      "cell_type": "code",
      "source": [
        "y_pred=svm_linear.predict(x_test)\n",
        "print('Accuracy is',accuracy_score(y_test,y_pred))"
      ],
      "metadata": {
        "colab": {
          "base_uri": "https://localhost:8080/"
        },
        "id": "DPBevE_iDIwi",
        "outputId": "439ffd7b-c9a9-4695-8da5-60a193b3bfc1"
      },
      "execution_count": 38,
      "outputs": [
        {
          "output_type": "stream",
          "name": "stdout",
          "text": [
            "Accuracy is 0.6962025316455697\n"
          ]
        }
      ]
    },
    {
      "cell_type": "code",
      "source": [
        "confusion_matrix(y_test,y_pred)"
      ],
      "metadata": {
        "colab": {
          "base_uri": "https://localhost:8080/"
        },
        "id": "xIdkd7y1DWOR",
        "outputId": "224aa339-5390-490c-d3cb-7766e2494696"
      },
      "execution_count": 39,
      "outputs": [
        {
          "output_type": "execute_result",
          "data": {
            "text/plain": [
              "array([[10, 17],\n",
              "       [ 7, 45]])"
            ]
          },
          "metadata": {},
          "execution_count": 39
        }
      ]
    },
    {
      "cell_type": "markdown",
      "source": [
        "Misclassifications=24"
      ],
      "metadata": {
        "id": "nnEmh2WSDsv3"
      }
    },
    {
      "cell_type": "code",
      "source": [
        "from sklearn.preprocessing import StandardScaler\n",
        "scaler=StandardScaler()\n",
        "x_train=scaler.fit_transform(x_train)\n",
        "x_test=scaler.fit_transform(x_test)\n",
        "svm_linear.fit(x_train,y_train)\n",
        "y_pred=svm_linear.predict(x_test)\n",
        "print('Accuracy is',accuracy_score(y_test,y_pred))\n",
        "confusion_matrix(y_test,y_pred)"
      ],
      "metadata": {
        "colab": {
          "base_uri": "https://localhost:8080/"
        },
        "id": "5n_Ae7NREmrd",
        "outputId": "744c4112-bc27-4f9e-8204-1b3a6d100e68"
      },
      "execution_count": 40,
      "outputs": [
        {
          "output_type": "stream",
          "name": "stdout",
          "text": [
            "Accuracy is 0.6835443037974683\n"
          ]
        },
        {
          "output_type": "execute_result",
          "data": {
            "text/plain": [
              "array([[11, 16],\n",
              "       [ 9, 43]])"
            ]
          },
          "metadata": {},
          "execution_count": 40
        }
      ]
    },
    {
      "cell_type": "markdown",
      "source": [
        "**Polynomial SVM**"
      ],
      "metadata": {
        "id": "bearLgozFWWO"
      }
    },
    {
      "cell_type": "code",
      "source": [
        "svm_poly=SVC(kernel='poly',degree=3)"
      ],
      "metadata": {
        "id": "4hOYXoNcFZvr"
      },
      "execution_count": 41,
      "outputs": []
    },
    {
      "cell_type": "code",
      "source": [
        "svm_poly.fit(x_train,y_train)"
      ],
      "metadata": {
        "colab": {
          "base_uri": "https://localhost:8080/"
        },
        "id": "RGU8CuNYFpr9",
        "outputId": "9a5c2283-7afc-4cf8-f7f3-71bd93a2adea"
      },
      "execution_count": 42,
      "outputs": [
        {
          "output_type": "execute_result",
          "data": {
            "text/plain": [
              "SVC(kernel='poly')"
            ]
          },
          "metadata": {},
          "execution_count": 42
        }
      ]
    },
    {
      "cell_type": "code",
      "source": [
        "y_pred=svm_poly.predict(x_test)\n",
        "print('Accuracy is',accuracy_score(y_test,y_pred))\n",
        "confusion_matrix(y_test,y_pred)"
      ],
      "metadata": {
        "colab": {
          "base_uri": "https://localhost:8080/"
        },
        "id": "S1T1b9FGFuZd",
        "outputId": "cb2bc276-9d0e-4e9c-e2f0-a7c3229a8a02"
      },
      "execution_count": 43,
      "outputs": [
        {
          "output_type": "stream",
          "name": "stdout",
          "text": [
            "Accuracy is 0.6455696202531646\n"
          ]
        },
        {
          "output_type": "execute_result",
          "data": {
            "text/plain": [
              "array([[ 3, 24],\n",
              "       [ 4, 48]])"
            ]
          },
          "metadata": {},
          "execution_count": 43
        }
      ]
    },
    {
      "cell_type": "markdown",
      "source": [
        "**Radial SVM**"
      ],
      "metadata": {
        "id": "Jhu9Sk2kGLis"
      }
    },
    {
      "cell_type": "code",
      "source": [
        "svm_radial=SVC(kernel='rbf')"
      ],
      "metadata": {
        "id": "_pFkj7c0GOWI"
      },
      "execution_count": 44,
      "outputs": []
    },
    {
      "cell_type": "code",
      "source": [
        "svm_radial.fit(x_train,y_train)"
      ],
      "metadata": {
        "colab": {
          "base_uri": "https://localhost:8080/"
        },
        "id": "uuRw9J4yGWfd",
        "outputId": "6067785e-2541-4301-8a63-f3d71caf12d4"
      },
      "execution_count": 45,
      "outputs": [
        {
          "output_type": "execute_result",
          "data": {
            "text/plain": [
              "SVC()"
            ]
          },
          "metadata": {},
          "execution_count": 45
        }
      ]
    },
    {
      "cell_type": "code",
      "source": [
        "y_pred=svm_radial.predict(x_test)\n",
        "print('Accuracy is',accuracy_score(y_test,y_pred))\n",
        "confusion_matrix(y_test,y_pred)"
      ],
      "metadata": {
        "colab": {
          "base_uri": "https://localhost:8080/"
        },
        "id": "G8jOOOnXGarN",
        "outputId": "eab26ba0-1023-4919-be80-e577489b05c9"
      },
      "execution_count": 46,
      "outputs": [
        {
          "output_type": "stream",
          "name": "stdout",
          "text": [
            "Accuracy is 0.6455696202531646\n"
          ]
        },
        {
          "output_type": "execute_result",
          "data": {
            "text/plain": [
              "array([[ 2, 25],\n",
              "       [ 3, 49]])"
            ]
          },
          "metadata": {},
          "execution_count": 46
        }
      ]
    },
    {
      "cell_type": "markdown",
      "source": [
        "# **Implementation of Random Forest**"
      ],
      "metadata": {
        "id": "7qcZLL48HMtd"
      }
    },
    {
      "cell_type": "code",
      "source": [
        "from sklearn.ensemble import RandomForestClassifier\n"
      ],
      "metadata": {
        "id": "p2EAz8UyHLsB"
      },
      "execution_count": 47,
      "outputs": []
    },
    {
      "cell_type": "code",
      "source": [
        "rf_model = RandomForestClassifier(random_state=42)"
      ],
      "metadata": {
        "id": "5CJvtWNqHad_"
      },
      "execution_count": 48,
      "outputs": []
    },
    {
      "cell_type": "code",
      "source": [
        "rf_model.fit(x_train,y_train)"
      ],
      "metadata": {
        "colab": {
          "base_uri": "https://localhost:8080/"
        },
        "id": "mmJXkznbHkB9",
        "outputId": "9f062a0c-1310-4e95-c502-34d0cf9396dd"
      },
      "execution_count": 49,
      "outputs": [
        {
          "output_type": "execute_result",
          "data": {
            "text/plain": [
              "RandomForestClassifier(random_state=42)"
            ]
          },
          "metadata": {},
          "execution_count": 49
        }
      ]
    },
    {
      "cell_type": "code",
      "source": [
        "y_pred=rf_model.predict(x_test)\n",
        "print('Accuracy is',accuracy_score(y_test,y_pred))\n",
        "confusion_matrix(y_test,y_pred)"
      ],
      "metadata": {
        "colab": {
          "base_uri": "https://localhost:8080/"
        },
        "id": "8ZTKlPedH2WJ",
        "outputId": "2259e250-86a9-4d49-f299-34b1ec07920c"
      },
      "execution_count": 50,
      "outputs": [
        {
          "output_type": "stream",
          "name": "stdout",
          "text": [
            "Accuracy is 0.6835443037974683\n"
          ]
        },
        {
          "output_type": "execute_result",
          "data": {
            "text/plain": [
              "array([[ 5, 22],\n",
              "       [ 3, 49]])"
            ]
          },
          "metadata": {},
          "execution_count": 50
        }
      ]
    },
    {
      "cell_type": "markdown",
      "source": [
        "**Out of all the implemented algorithms,SVM is the best choice here ,since it gives an accuracy of approximately 70%.**"
      ],
      "metadata": {
        "id": "hMkntQn-claE"
      }
    }
  ]
}