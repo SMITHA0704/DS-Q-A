{
  "cells": [
    {
      "cell_type": "code",
      "execution_count": null,
      "metadata": {
        "colab": {
          "base_uri": "https://localhost:8080/"
        },
        "id": "BTilvYgcpu_Z",
        "outputId": "961c3415-fbfb-43b3-da66-867b67bf4c33"
      },
      "outputs": [
        {
          "name": "stdout",
          "output_type": "stream",
          "text": [
            "       Month      Region      Manager  Sales_before_digital_add(in $)  \\\n",
            "0    Month-1  Region - A  Manager - A                          132921   \n",
            "1    Month-2  Region - A  Manager - C                          149559   \n",
            "2    Month-3  Region - B  Manager - A                          146278   \n",
            "3    Month-4  Region - B  Manager - B                          152167   \n",
            "4    Month-5  Region - C  Manager - B                          159525   \n",
            "5    Month-6  Region - A  Manager - B                          137163   \n",
            "6    Month-7  Region - C  Manager - C                          130625   \n",
            "7    Month-8  Region - A  Manager - A                          131140   \n",
            "8    Month-9  Region - B  Manager - C                          171259   \n",
            "9   Month-10  Region - C  Manager - B                          141956   \n",
            "10  Month-11  Region - B  Manager - C                          159339   \n",
            "11  Month-12  Region - A  Manager - A                          178939   \n",
            "12  Month-13  Region - B  Manager - A                          145062   \n",
            "13  Month-14  Region - A  Manager - A                          151514   \n",
            "14  Month-15  Region - C  Manager - A                          147463   \n",
            "15  Month-16  Region - A  Manager - B                          177195   \n",
            "16  Month-17  Region - A  Manager - C                          140862   \n",
            "17  Month-18  Region - C  Manager - B                          167996   \n",
            "18  Month-19  Region - B  Manager - A                          132135   \n",
            "19  Month-20  Region - A  Manager - B                          152493   \n",
            "20  Month-21  Region - B  Manager - A                          147425   \n",
            "21  Month-22  Region - A  Manager - C                          130263   \n",
            "\n",
            "    Sales_After_digital_add(in $)  \n",
            "0                          270390  \n",
            "1                          223334  \n",
            "2                          244243  \n",
            "3                          231808  \n",
            "4                          258402  \n",
            "5                          256948  \n",
            "6                          222106  \n",
            "7                          230637  \n",
            "8                          226261  \n",
            "9                          193735  \n",
            "10                         203175  \n",
            "11                         276279  \n",
            "12                         205180  \n",
            "13                         253131  \n",
            "14                         229336  \n",
            "15                         187305  \n",
            "16                         234908  \n",
            "17                         191517  \n",
            "18                         227040  \n",
            "19                         212579  \n",
            "20                         263388  \n",
            "21                         243020  \n"
          ]
        }
      ],
      "source": [
        "import pandas as pd\n",
        "df=pd.read_csv('/content/Sales_add.csv')\n",
        "print(df)"
      ]
    },
    {
      "cell_type": "code",
      "execution_count": null,
      "metadata": {
        "colab": {
          "background_save": true,
          "base_uri": "https://localhost:8080/"
        },
        "id": "XDaq6KvwqBha",
        "outputId": "bd894c4d-9670-40d3-8ce5-cfad8552a1c7"
      },
      "outputs": [
        {
          "data": {
            "text/html": [
              "\n",
              "  <div id=\"df-df032b3e-852d-45a6-9d34-10015b7d9f66\">\n",
              "    <div class=\"colab-df-container\">\n",
              "      <div>\n",
              "<style scoped>\n",
              "    .dataframe tbody tr th:only-of-type {\n",
              "        vertical-align: middle;\n",
              "    }\n",
              "\n",
              "    .dataframe tbody tr th {\n",
              "        vertical-align: top;\n",
              "    }\n",
              "\n",
              "    .dataframe thead th {\n",
              "        text-align: right;\n",
              "    }\n",
              "</style>\n",
              "<table border=\"1\" class=\"dataframe\">\n",
              "  <thead>\n",
              "    <tr style=\"text-align: right;\">\n",
              "      <th></th>\n",
              "      <th>Sales_before_digital</th>\n",
              "      <th>Sales_After_digital</th>\n",
              "    </tr>\n",
              "  </thead>\n",
              "  <tbody>\n",
              "    <tr>\n",
              "      <th>count</th>\n",
              "      <td>22.000000</td>\n",
              "      <td>22.000000</td>\n",
              "    </tr>\n",
              "    <tr>\n",
              "      <th>mean</th>\n",
              "      <td>149239.954545</td>\n",
              "      <td>231123.727273</td>\n",
              "    </tr>\n",
              "    <tr>\n",
              "      <th>std</th>\n",
              "      <td>14844.042921</td>\n",
              "      <td>25556.777061</td>\n",
              "    </tr>\n",
              "    <tr>\n",
              "      <th>min</th>\n",
              "      <td>130263.000000</td>\n",
              "      <td>187305.000000</td>\n",
              "    </tr>\n",
              "    <tr>\n",
              "      <th>25%</th>\n",
              "      <td>138087.750000</td>\n",
              "      <td>214960.750000</td>\n",
              "    </tr>\n",
              "    <tr>\n",
              "      <th>50%</th>\n",
              "      <td>147444.000000</td>\n",
              "      <td>229986.500000</td>\n",
              "    </tr>\n",
              "    <tr>\n",
              "      <th>75%</th>\n",
              "      <td>157627.500000</td>\n",
              "      <td>250909.000000</td>\n",
              "    </tr>\n",
              "    <tr>\n",
              "      <th>max</th>\n",
              "      <td>178939.000000</td>\n",
              "      <td>276279.000000</td>\n",
              "    </tr>\n",
              "  </tbody>\n",
              "</table>\n",
              "</div>\n",
              "      <button class=\"colab-df-convert\" onclick=\"convertToInteractive('df-df032b3e-852d-45a6-9d34-10015b7d9f66')\"\n",
              "              title=\"Convert this dataframe to an interactive table.\"\n",
              "              style=\"display:none;\">\n",
              "        \n",
              "  <svg xmlns=\"http://www.w3.org/2000/svg\" height=\"24px\"viewBox=\"0 0 24 24\"\n",
              "       width=\"24px\">\n",
              "    <path d=\"M0 0h24v24H0V0z\" fill=\"none\"/>\n",
              "    <path d=\"M18.56 5.44l.94 2.06.94-2.06 2.06-.94-2.06-.94-.94-2.06-.94 2.06-2.06.94zm-11 1L8.5 8.5l.94-2.06 2.06-.94-2.06-.94L8.5 2.5l-.94 2.06-2.06.94zm10 10l.94 2.06.94-2.06 2.06-.94-2.06-.94-.94-2.06-.94 2.06-2.06.94z\"/><path d=\"M17.41 7.96l-1.37-1.37c-.4-.4-.92-.59-1.43-.59-.52 0-1.04.2-1.43.59L10.3 9.45l-7.72 7.72c-.78.78-.78 2.05 0 2.83L4 21.41c.39.39.9.59 1.41.59.51 0 1.02-.2 1.41-.59l7.78-7.78 2.81-2.81c.8-.78.8-2.07 0-2.86zM5.41 20L4 18.59l7.72-7.72 1.47 1.35L5.41 20z\"/>\n",
              "  </svg>\n",
              "      </button>\n",
              "      \n",
              "  <style>\n",
              "    .colab-df-container {\n",
              "      display:flex;\n",
              "      flex-wrap:wrap;\n",
              "      gap: 12px;\n",
              "    }\n",
              "\n",
              "    .colab-df-convert {\n",
              "      background-color: #E8F0FE;\n",
              "      border: none;\n",
              "      border-radius: 50%;\n",
              "      cursor: pointer;\n",
              "      display: none;\n",
              "      fill: #1967D2;\n",
              "      height: 32px;\n",
              "      padding: 0 0 0 0;\n",
              "      width: 32px;\n",
              "    }\n",
              "\n",
              "    .colab-df-convert:hover {\n",
              "      background-color: #E2EBFA;\n",
              "      box-shadow: 0px 1px 2px rgba(60, 64, 67, 0.3), 0px 1px 3px 1px rgba(60, 64, 67, 0.15);\n",
              "      fill: #174EA6;\n",
              "    }\n",
              "\n",
              "    [theme=dark] .colab-df-convert {\n",
              "      background-color: #3B4455;\n",
              "      fill: #D2E3FC;\n",
              "    }\n",
              "\n",
              "    [theme=dark] .colab-df-convert:hover {\n",
              "      background-color: #434B5C;\n",
              "      box-shadow: 0px 1px 3px 1px rgba(0, 0, 0, 0.15);\n",
              "      filter: drop-shadow(0px 1px 2px rgba(0, 0, 0, 0.3));\n",
              "      fill: #FFFFFF;\n",
              "    }\n",
              "  </style>\n",
              "\n",
              "      <script>\n",
              "        const buttonEl =\n",
              "          document.querySelector('#df-df032b3e-852d-45a6-9d34-10015b7d9f66 button.colab-df-convert');\n",
              "        buttonEl.style.display =\n",
              "          google.colab.kernel.accessAllowed ? 'block' : 'none';\n",
              "\n",
              "        async function convertToInteractive(key) {\n",
              "          const element = document.querySelector('#df-df032b3e-852d-45a6-9d34-10015b7d9f66');\n",
              "          const dataTable =\n",
              "            await google.colab.kernel.invokeFunction('convertToInteractive',\n",
              "                                                     [key], {});\n",
              "          if (!dataTable) return;\n",
              "\n",
              "          const docLinkHtml = 'Like what you see? Visit the ' +\n",
              "            '<a target=\"_blank\" href=https://colab.research.google.com/notebooks/data_table.ipynb>data table notebook</a>'\n",
              "            + ' to learn more about interactive tables.';\n",
              "          element.innerHTML = '';\n",
              "          dataTable['output_type'] = 'display_data';\n",
              "          await google.colab.output.renderOutput(dataTable, element);\n",
              "          const docLink = document.createElement('div');\n",
              "          docLink.innerHTML = docLinkHtml;\n",
              "          element.appendChild(docLink);\n",
              "        }\n",
              "      </script>\n",
              "    </div>\n",
              "  </div>\n",
              "  "
            ],
            "text/plain": [
              "       Sales_before_digital  Sales_After_digital\n",
              "count             22.000000            22.000000\n",
              "mean          149239.954545        231123.727273\n",
              "std            14844.042921         25556.777061\n",
              "min           130263.000000        187305.000000\n",
              "25%           138087.750000        214960.750000\n",
              "50%           147444.000000        229986.500000\n",
              "75%           157627.500000        250909.000000\n",
              "max           178939.000000        276279.000000"
            ]
          },
          "execution_count": null,
          "metadata": {},
          "output_type": "execute_result"
        }
      ],
      "source": [
        "df=df.rename(columns={'Sales_before_digital_add(in $)':'Sales_before_digital','Sales_After_digital_add(in $)':'Sales_After_digital' })\n",
        "print(df)"
      ]
    },
    {
      "cell_type": "code",
      "execution_count": null,
      "metadata": {
        "colab": {
          "base_uri": "https://localhost:8080/",
          "height": 265
        },
        "id": "r5Jk7Il5q5_l",
        "outputId": "f3f44e72-7513-4963-e137-2bd19e334de8"
      },
      "outputs": [
        {
          "data": {
            "image/png": "[encoded data removed]",
            "text/plain": [
              "<Figure size 432x288 with 1 Axes>"
            ]
          },
          "metadata": {},
          "output_type": "display_data"
        }
      ],
      "source": [
        "#Graphical representation\n",
        "import matplotlib.pyplot as plt\n",
        "x=df['Month']\n",
        "y1=df['Sales_before_digital']\n",
        "y2=df['Sales_After_digital']\n",
        "y3=df['Sales_After_digital']-df['Sales_before_digital']\n",
        "plt.plot(x,y1,color='k',label='Sales before digital marketing')\n",
        "plt.plot(x,y2,color='r',label='Sales after digital marketing')\n",
        "plt.plot(x,y3,color='orange',label='Difference in sales')\n",
        "plt.legend()\n",
        "plt.show()"
      ]
    },
    {
      "cell_type": "code",
      "execution_count": 18,
      "metadata": {
        "colab": {
          "base_uri": "https://localhost:8080/"
        },
        "id": "T4VD6sRhn2Qy",
        "outputId": "453e3dfc-8ba2-42b6-b692-af92a888eba4"
      },
      "outputs": [
        {
          "output_type": "stream",
          "name": "stdout",
          "text": [
            "t-value is: -12.09070525287017\n",
            "p-value is: 6.336667004575778e-11\n"
          ]
        }
      ],
      "source": [
        "from statsmodels.stats.weightstats import ztest as ztest\n",
        "y1=df['Sales_before_digital']\n",
        "y2=df['Sales_After_digital']\n",
        "t_val,p_val=stats.ttest_rel(y1,y2)\n",
        "print('t-value is:',t_val)\n",
        "print('p-value is:',p_val)\n",
        "\n"
      ]
    },
    {
      "cell_type": "markdown",
      "source": [
        "As t-value is much greater than t-alpha which is 2.015 the null hypothesis is rejected\n",
        "alternate hypothesis is accepted ie, there is an increase in sale after stepping into digital marketing"
      ],
      "metadata": {
        "id": "uu2P2TOVL1Gv"
      }
    },
    {
      "cell_type": "code",
      "execution_count": null,
      "metadata": {
        "colab": {
          "base_uri": "https://localhost:8080/"
        },
        "id": "ZYx8bbLMsDDa",
        "outputId": "39a16419-943e-4e5e-8a51-4c4d69320e77"
      },
      "outputs": [
        {
          "name": "stdout",
          "output_type": "stream",
          "text": [
            "Region      Manager    \n",
            "Region - A  Manager - A    148628.500000\n",
            "            Manager - B    155617.000000\n",
            "            Manager - C    140228.000000\n",
            "Region - B  Manager - A    142725.000000\n",
            "            Manager - B    152167.000000\n",
            "            Manager - C    165299.000000\n",
            "Region - C  Manager - A    147463.000000\n",
            "            Manager - B    156492.333333\n",
            "            Manager - C    130625.000000\n",
            "Name: Sales_before_digital, dtype: float64\n"
          ]
        }
      ],
      "source": [
        "df1=df.groupby(['Region','Manager'])['Sales_before_digital'].mean()\n",
        "print(df1)"
      ]
    },
    {
      "cell_type": "code",
      "execution_count": null,
      "metadata": {
        "colab": {
          "base_uri": "https://localhost:8080/"
        },
        "id": "HqsRBjR6tyKa",
        "outputId": "b138acb3-bf80-45dd-fdc6-da19aedf0f53"
      },
      "outputs": [
        {
          "name": "stdout",
          "output_type": "stream",
          "text": [
            "Region      Manager    \n",
            "Region - A  Manager - A    257609.250000\n",
            "            Manager - B    218944.000000\n",
            "            Manager - C    233754.000000\n",
            "Region - B  Manager - A    234962.750000\n",
            "            Manager - B    231808.000000\n",
            "            Manager - C    214718.000000\n",
            "Region - C  Manager - A    229336.000000\n",
            "            Manager - B    214551.333333\n",
            "            Manager - C    222106.000000\n",
            "Name: Sales_After_digital, dtype: float64\n"
          ]
        }
      ],
      "source": [
        "df2=df.groupby(['Region','Manager'])['Sales_After_digital'].mean()\n",
        "print(df2)"
      ]
    },
    {
      "cell_type": "markdown",
      "metadata": {
        "id": "xjT-aloZwgXO"
      },
      "source": [
        "The above results shows that there is not much dependency between Region and Manager since irrespective of region, managers shows consistent performance ,before and after addition of digital marketing"
      ]
    },
    {
      "cell_type": "code",
      "execution_count": null,
      "metadata": {
        "id": "_D8Hii_Ht_wh"
      },
      "outputs": [],
      "source": [
        "#To prove dependency between region and manager using chi square test\n",
        "#H0: Region and Manager are independent\n",
        "#H1: Region and Manager are not independent"
      ]
    },
    {
      "cell_type": "code",
      "source": [
        "crosstab=pd.crosstab(df['Region'],df['Manager'],normalize='index')\n",
        "crosstab"
      ],
      "metadata": {
        "colab": {
          "base_uri": "https://localhost:8080/",
          "height": 175
        },
        "id": "XgCtFmqeMMX2",
        "outputId": "8575b128-8fae-4386-b146-7789c30a306d"
      },
      "execution_count": 20,
      "outputs": [
        {
          "output_type": "execute_result",
          "data": {
            "text/plain": [
              "Manager     Manager - A  Manager - B  Manager - C\n",
              "Region                                           \n",
              "Region - A     0.400000     0.300000     0.300000\n",
              "Region - B     0.571429     0.142857     0.285714\n",
              "Region - C     0.200000     0.600000     0.200000"
            ],
            "text/html": [
              "\n",
              "  <div id=\"df-6b39a32e-61c6-49a8-86a4-486455764f14\">\n",
              "    <div class=\"colab-df-container\">\n",
              "      <div>\n",
              "<style scoped>\n",
              "    .dataframe tbody tr th:only-of-type {\n",
              "        vertical-align: middle;\n",
              "    }\n",
              "\n",
              "    .dataframe tbody tr th {\n",
              "        vertical-align: top;\n",
              "    }\n",
              "\n",
              "    .dataframe thead th {\n",
              "        text-align: right;\n",
              "    }\n",
              "</style>\n",
              "<table border=\"1\" class=\"dataframe\">\n",
              "  <thead>\n",
              "    <tr style=\"text-align: right;\">\n",
              "      <th>Manager</th>\n",
              "      <th>Manager - A</th>\n",
              "      <th>Manager - B</th>\n",
              "      <th>Manager - C</th>\n",
              "    </tr>\n",
              "    <tr>\n",
              "      <th>Region</th>\n",
              "      <th></th>\n",
              "      <th></th>\n",
              "      <th></th>\n",
              "    </tr>\n",
              "  </thead>\n",
              "  <tbody>\n",
              "    <tr>\n",
              "      <th>Region - A</th>\n",
              "      <td>0.400000</td>\n",
              "      <td>0.300000</td>\n",
              "      <td>0.300000</td>\n",
              "    </tr>\n",
              "    <tr>\n",
              "      <th>Region - B</th>\n",
              "      <td>0.571429</td>\n",
              "      <td>0.142857</td>\n",
              "      <td>0.285714</td>\n",
              "    </tr>\n",
              "    <tr>\n",
              "      <th>Region - C</th>\n",
              "      <td>0.200000</td>\n",
              "      <td>0.600000</td>\n",
              "      <td>0.200000</td>\n",
              "    </tr>\n",
              "  </tbody>\n",
              "</table>\n",
              "</div>\n",
              "      <button class=\"colab-df-convert\" onclick=\"convertToInteractive('df-6b39a32e-61c6-49a8-86a4-486455764f14')\"\n",
              "              title=\"Convert this dataframe to an interactive table.\"\n",
              "              style=\"display:none;\">\n",
              "        \n",
              "  <svg xmlns=\"http://www.w3.org/2000/svg\" height=\"24px\"viewBox=\"0 0 24 24\"\n",
              "       width=\"24px\">\n",
              "    <path d=\"M0 0h24v24H0V0z\" fill=\"none\"/>\n",
              "    <path d=\"M18.56 5.44l.94 2.06.94-2.06 2.06-.94-2.06-.94-.94-2.06-.94 2.06-2.06.94zm-11 1L8.5 8.5l.94-2.06 2.06-.94-2.06-.94L8.5 2.5l-.94 2.06-2.06.94zm10 10l.94 2.06.94-2.06 2.06-.94-2.06-.94-.94-2.06-.94 2.06-2.06.94z\"/><path d=\"M17.41 7.96l-1.37-1.37c-.4-.4-.92-.59-1.43-.59-.52 0-1.04.2-1.43.59L10.3 9.45l-7.72 7.72c-.78.78-.78 2.05 0 2.83L4 21.41c.39.39.9.59 1.41.59.51 0 1.02-.2 1.41-.59l7.78-7.78 2.81-2.81c.8-.78.8-2.07 0-2.86zM5.41 20L4 18.59l7.72-7.72 1.47 1.35L5.41 20z\"/>\n",
              "  </svg>\n",
              "      </button>\n",
              "      \n",
              "  <style>\n",
              "    .colab-df-container {\n",
              "      display:flex;\n",
              "      flex-wrap:wrap;\n",
              "      gap: 12px;\n",
              "    }\n",
              "\n",
              "    .colab-df-convert {\n",
              "      background-color: #E8F0FE;\n",
              "      border: none;\n",
              "      border-radius: 50%;\n",
              "      cursor: pointer;\n",
              "      display: none;\n",
              "      fill: #1967D2;\n",
              "      height: 32px;\n",
              "      padding: 0 0 0 0;\n",
              "      width: 32px;\n",
              "    }\n",
              "\n",
              "    .colab-df-convert:hover {\n",
              "      background-color: #E2EBFA;\n",
              "      box-shadow: 0px 1px 2px rgba(60, 64, 67, 0.3), 0px 1px 3px 1px rgba(60, 64, 67, 0.15);\n",
              "      fill: #174EA6;\n",
              "    }\n",
              "\n",
              "    [theme=dark] .colab-df-convert {\n",
              "      background-color: #3B4455;\n",
              "      fill: #D2E3FC;\n",
              "    }\n",
              "\n",
              "    [theme=dark] .colab-df-convert:hover {\n",
              "      background-color: #434B5C;\n",
              "      box-shadow: 0px 1px 3px 1px rgba(0, 0, 0, 0.15);\n",
              "      filter: drop-shadow(0px 1px 2px rgba(0, 0, 0, 0.3));\n",
              "      fill: #FFFFFF;\n",
              "    }\n",
              "  </style>\n",
              "\n",
              "      <script>\n",
              "        const buttonEl =\n",
              "          document.querySelector('#df-6b39a32e-61c6-49a8-86a4-486455764f14 button.colab-df-convert');\n",
              "        buttonEl.style.display =\n",
              "          google.colab.kernel.accessAllowed ? 'block' : 'none';\n",
              "\n",
              "        async function convertToInteractive(key) {\n",
              "          const element = document.querySelector('#df-6b39a32e-61c6-49a8-86a4-486455764f14');\n",
              "          const dataTable =\n",
              "            await google.colab.kernel.invokeFunction('convertToInteractive',\n",
              "                                                     [key], {});\n",
              "          if (!dataTable) return;\n",
              "\n",
              "          const docLinkHtml = 'Like what you see? Visit the ' +\n",
              "            '<a target=\"_blank\" href=https://colab.research.google.com/notebooks/data_table.ipynb>data table notebook</a>'\n",
              "            + ' to learn more about interactive tables.';\n",
              "          element.innerHTML = '';\n",
              "          dataTable['output_type'] = 'display_data';\n",
              "          await google.colab.output.renderOutput(dataTable, element);\n",
              "          const docLink = document.createElement('div');\n",
              "          docLink.innerHTML = docLinkHtml;\n",
              "          element.appendChild(docLink);\n",
              "        }\n",
              "      </script>\n",
              "    </div>\n",
              "  </div>\n",
              "  "
            ]
          },
          "metadata": {},
          "execution_count": 20
        }
      ]
    },
    {
      "cell_type": "code",
      "source": [
        "from scipy.stats import chi2_contingency\n",
        "c, p, dof, expected = chi2_contingency(crosstab)\n",
        "print('chi square statistic:',c)\n",
        "print('pvalue:',p)\n",
        "print('degrees of freedom:',dof)"
      ],
      "metadata": {
        "colab": {
          "base_uri": "https://localhost:8080/"
        },
        "id": "yLPYs-_RMU52",
        "outputId": "1a0d1564-d849-4421-f092-e8b1862eca42"
      },
      "execution_count": 21,
      "outputs": [
        {
          "output_type": "stream",
          "name": "stdout",
          "text": [
            "chi square statistic: 0.5097129666190809\n",
            "pvalue: 0.9725485584250712\n",
            "degrees of freedom: 4\n"
          ]
        }
      ]
    },
    {
      "cell_type": "markdown",
      "source": [
        "level of significance for .05 is 2.78 \n",
        "chi square value is less than 2.78, so null hypothesis is accepted.\n",
        "The Region and Manager are independent, ie no relation between Region and Manager for the sales"
      ],
      "metadata": {
        "id": "D8x4zrkrMZhk"
      }
    }
  ],
  "metadata": {
    "colab": {
      "name": "Case study #3",
      "provenance": []
    },
    "kernelspec": {
      "display_name": "Python 3",
      "name": "python3"
    },
    "language_info": {
      "name": "python"
    }
  },
  "nbformat": 4,
  "nbformat_minor": 0
}